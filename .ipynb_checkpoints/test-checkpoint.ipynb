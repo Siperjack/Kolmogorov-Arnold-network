{
 "cells": [
  {
   "cell_type": "markdown",
   "metadata": {},
   "source": [
    "# Jupyter testing"
   ]
  },
  {
   "cell_type": "markdown",
   "metadata": {},
   "source": [
    "##### Libraries and seed"
   ]
  },
  {
   "cell_type": "code",
   "execution_count": 8,
   "metadata": {
    "scrolled": true
   },
   "outputs": [
    {
     "data": {
      "text/plain": [
       "<torch._C.Generator at 0x177d17dbfb0>"
      ]
     },
     "execution_count": 8,
     "metadata": {},
     "output_type": "execute_result"
    }
   ],
   "source": [
    "import torch\n",
    "import torch.nn as nn\n",
    "import torch.nn.functional as F\n",
    "import numpy as np\n",
    "# import tensorflow_datasets as tfds\n",
    "torch.manual_seed(42)"
   ]
  },
  {
   "cell_type": "markdown",
   "metadata": {},
   "source": [
    "### Architecture"
   ]
  },
  {
   "cell_type": "code",
   "execution_count": 15,
   "metadata": {},
   "outputs": [],
   "source": [
    "class test_architecture(torch.nn.Module):\n",
    "    def __init__(self):\n",
    "        super(test_architecture, self).__init__()\n",
    "        self.l1_conv = nn.Conv1d(1, 3, 3)\n",
    "        self.l2_conv = nn.Conv1d(3, 3, 3)\n",
    "        self.l3_conv = nn.Conv1d(3, 3, 3)\n",
    "        self.l4_lin = nn.Linear(250, 4)\n",
    "    \n",
    "    def forward(self, X):\n",
    "\n",
    "        X = F.relu(self.l1_conv(X))\n",
    "        X = self.l2_conv(Xm\n",
    "        X = F.relu(self.l3_conv(X))\n",
    "        X = self.l4_lin(X)\n",
    "        return X\n",
    "\n",
    "model = test_architecture()"
   ]
  },
  {
   "cell_type": "code",
   "execution_count": 14,
   "metadata": {},
   "outputs": [
    {
     "name": "stdout",
     "output_type": "stream",
     "text": [
      "test_architecture(\n",
      "  (l1_conv): Conv1d(1, 3, kernel_size=(3,), stride=(1,))\n",
      "  (l2_conv): Conv1d(3, 3, kernel_size=(3,), stride=(1,))\n",
      "  (l3_conv): Conv1d(3, 3, kernel_size=(3,), stride=(1,))\n",
      "  (l4_lin): Linear(in_features=250, out_features=4, bias=True)\n",
      ")\n"
     ]
    },
    {
     "data": {
      "text/plain": [
       "tensor([[[ 0.1697,  0.0740,  0.1456, -0.2521],\n",
       "         [ 0.0455, -0.0381,  0.0319, -0.0546],\n",
       "         [ 0.0442, -0.0274,  0.0386, -0.0516]]], grad_fn=<ViewBackward0>)"
      ]
     },
     "execution_count": 14,
     "metadata": {},
     "output_type": "execute_result"
    }
   ],
   "source": [
    "# input = torch.rand(1, 1, 256)\n",
    "print(model)\n",
    "# print(input)\n",
    "model(input)"
   ]
  },
  {
   "cell_type": "markdown",
   "metadata": {},
   "source": [
    "Now we do the training loop."
   ]
  },
  {
   "cell_type": "code",
   "execution_count": 5,
   "metadata": {},
   "outputs": [],
   "source": [
    "# for i in range(grids.shape[0]):\n",
    "#     if i == 0:\n",
    "#         model = KAN(width=[2,1,1], grid=grids[i], k=k, seed=1, device=device)\n",
    "#     if i != 0:\n",
    "#         model = model.refine(grids[i])\n",
    "#     results = model.fit(dataset, opt=\"LBFGS\", steps=steps)\n",
    "#     train_losses += results['train_loss']\n",
    "#     test_losses += results['test_loss']"
   ]
  },
  {
   "cell_type": "markdown",
   "metadata": {},
   "source": [
    "Custom KAN layer: $$F(x) = \\sum_{p=0}^{2n} \\sum_{q=0}^{n} \\phi_{p,q}(x),$$ where $\\phi_{p,q}$ are splines on the domain of $F\\colon I \\rightarrow \\{0,1\\}$."
   ]
  },
  {
   "cell_type": "code",
   "execution_count": null,
   "metadata": {},
   "outputs": [],
   "source": []
  }
 ],
 "metadata": {
  "kernelspec": {
   "display_name": "Python 3 (ipykernel)",
   "language": "python",
   "name": "python3"
  },
  "language_info": {
   "codemirror_mode": {
    "name": "ipython",
    "version": 3
   },
   "file_extension": ".py",
   "mimetype": "text/x-python",
   "name": "python",
   "nbconvert_exporter": "python",
   "pygments_lexer": "ipython3",
   "version": "3.12.4"
  }
 },
 "nbformat": 4,
 "nbformat_minor": 4
}
