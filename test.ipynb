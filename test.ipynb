{
 "cells": [
  {
   "cell_type": "markdown",
   "metadata": {},
   "source": [
    "# Jupyter testing"
   ]
  },
  {
   "cell_type": "markdown",
   "metadata": {},
   "source": [
    "##### Libraries and seed"
   ]
  },
  {
   "cell_type": "code",
   "execution_count": null,
   "metadata": {
    "scrolled": true
   },
   "outputs": [],
   "source": [
    "import torch\n",
    "import torch.nn as nn\n",
    "import torch.nn.functional as F\n",
    "import numpy as np\n",
    "# import tensorflow_datasets as tfds\n",
    "torch.manual_seed(42)"
   ]
  },
  {
   "cell_type": "markdown",
   "metadata": {},
   "source": [
    "### Architecture"
   ]
  },
  {
   "cell_type": "code",
   "execution_count": null,
   "metadata": {},
   "outputs": [],
   "source": [
    "class test_architecture(torch.nn.Module):\n",
    "    def __init__(self):\n",
    "        super(test_architecture, self).__init__()\n",
    "        self.l1_conv = nn.Conv1d(1, 3, 3)\n",
    "        self.l2_conv = nn.Conv1d(3, 3, 3)\n",
    "        self.l3_conv = nn.Conv1d(3, 3, 3)\n",
    "        self.l4_lin = nn.Linear(250, 4)\n",
    "    \n",
    "    def forward(self, X):\n",
    "\n",
    "        X = self.l1_conv(X)\n",
    "        X = self.l2_conv(X)\n",
    "        X = F.relu(self.l3_conv(X))\n",
    "        X = self.l4_lin(X)\n",
    "        return X\n",
    "\n",
    "model = test_architecture()"
   ]
  },
  {
   "cell_type": "code",
   "execution_count": null,
   "metadata": {},
   "outputs": [],
   "source": [
    "input = torch.rand(1, 1, 256)\n",
    "print(model)\n",
    "# print(input)\n",
    "model(input)"
   ]
  },
  {
   "cell_type": "markdown",
   "metadata": {},
   "source": [
    "Now we do the training loop."
   ]
  },
  {
   "cell_type": "code",
   "execution_count": null,
   "metadata": {},
   "outputs": [],
   "source": [
    "# for i in range(grids.shape[0]):\n",
    "#     if i == 0:\n",
    "#         model = KAN(width=[2,1,1], grid=grids[i], k=k, seed=1, device=device)\n",
    "#     if i != 0:\n",
    "#         model = model.refine(grids[i])\n",
    "#     results = model.fit(dataset, opt=\"LBFGS\", steps=steps)\n",
    "#     train_losses += results['train_loss']\n",
    "#     test_losses += results['test_loss']"
   ]
  },
  {
   "cell_type": "markdown",
   "metadata": {},
   "source": [
    "Custom KAN layer: $$F(x) = \\sum_{p=0}^{2n} \\Phi_p(\\sum_{q=1}^{n} \\phi_{p,q}(x)),$$ where $\\phi_{p,q}$ and $\\Phi_p$ are splines $\\phi_{p,q} \\colon I \\rightarrow \\mathbb R$ and $\\Phi_p\\colon \\mathbb R \\rightarrow \\{0,1\\}$.\n",
    "\n",
    "Note that the intervall $I$ need to be divided into $G \\in \\mathbb N$ amount of segments, defining the number of $B$-splines needed in the basis."
   ]
  },
  {
   "cell_type": "code",
   "execution_count": null,
   "metadata": {},
   "outputs": [],
   "source": []
  }
 ],
 "metadata": {
  "kernelspec": {
   "display_name": "Python 3 (ipykernel)",
   "language": "python",
   "name": "python3"
  },
  "language_info": {
   "codemirror_mode": {
    "name": "ipython",
    "version": 3
   },
   "file_extension": ".py",
   "mimetype": "text/x-python",
   "name": "python",
   "nbconvert_exporter": "python",
   "pygments_lexer": "ipython3",
   "version": "3.12.4"
  }
 },
 "nbformat": 4,
 "nbformat_minor": 4
}
