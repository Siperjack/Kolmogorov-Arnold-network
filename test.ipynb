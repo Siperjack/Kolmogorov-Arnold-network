{
 "cells": [
  {
   "cell_type": "markdown",
   "metadata": {},
   "source": [
    "# Jupyter testing"
   ]
  },
  {
   "cell_type": "code",
   "execution_count": 139,
   "metadata": {},
   "outputs": [
    {
     "data": {
      "text/plain": [
       "<torch._C.Generator at 0x243f48479f0>"
      ]
     },
     "execution_count": 139,
     "metadata": {},
     "output_type": "execute_result"
    }
   ],
   "source": [
    "import torch\n",
    "import torch.nn as nn\n",
    "import torch.nn.functional as F\n",
    "import numpy as np\n",
    "torch.manual_seed(42)"
   ]
  },
  {
   "cell_type": "code",
   "execution_count": 140,
   "metadata": {},
   "outputs": [
    {
     "name": "stdout",
     "output_type": "stream",
     "text": [
      "tensor([[0.8823, 0.9150],\n",
      "        [0.3829, 0.9593]]) \n",
      " tensor([[0.3904, 0.6009],\n",
      "        [0.2566, 0.7936]])\n"
     ]
    }
   ],
   "source": [
    "A = torch.rand(2, 2)\n",
    "B = torch.rand(2, 2)\n",
    "print(A, \"\\n\", B)"
   ]
  },
  {
   "cell_type": "code",
   "execution_count": 141,
   "metadata": {},
   "outputs": [],
   "source": [
    "class test_architecture(torch.nn.Module):\n",
    "    def __init__(self):\n",
    "        super(test_architecture, self).__init__()\n",
    "        self.l1_conv = nn.Conv1d(1, 3, 3)\n",
    "        self.l2_conv = nn.Conv1d(3, 3, 3)\n",
    "        self.l3_conv = nn.Conv1d(3, 3, 3)\n",
    "        self.l4_lin = nn.Linear(250, 4)\n",
    "    \n",
    "    def forward(self, X):\n",
    "\n",
    "        X = self.l1_conv(X)\n",
    "        X = self.l2_conv(X)\n",
    "        X = F.relu(self.l3_conv(X))\n",
    "        X = self.l4_lin(X)\n",
    "        return X\n",
    "\n",
    "model = test_architecture()"
   ]
  },
  {
   "cell_type": "code",
   "execution_count": 142,
   "metadata": {},
   "outputs": [
    {
     "name": "stdout",
     "output_type": "stream",
     "text": [
      "test_architecture(\n",
      "  (l1_conv): Conv1d(1, 3, kernel_size=(3,), stride=(1,))\n",
      "  (l2_conv): Conv1d(3, 3, kernel_size=(3,), stride=(1,))\n",
      "  (l3_conv): Conv1d(3, 3, kernel_size=(3,), stride=(1,))\n",
      "  (l4_lin): Linear(in_features=250, out_features=4, bias=True)\n",
      ")\n"
     ]
    },
    {
     "data": {
      "text/plain": [
       "tensor([[[-0.7145, -0.2099, -0.0915, -0.1520],\n",
       "         [-0.3729, -0.1460, -0.0917, -0.1467],\n",
       "         [-0.5900, -0.1413, -0.1118, -0.1496]]], grad_fn=<ViewBackward0>)"
      ]
     },
     "execution_count": 142,
     "metadata": {},
     "output_type": "execute_result"
    }
   ],
   "source": [
    "input = torch.rand(1, 1, 256)\n",
    "print(model)\n",
    "# print(input)\n",
    "model(input)"
   ]
  },
  {
   "cell_type": "markdown",
   "metadata": {},
   "source": [
    "Know we do the training loop."
   ]
  },
  {
   "cell_type": "code",
   "execution_count": 143,
   "metadata": {},
   "outputs": [],
   "source": [
    "# for i in range(grids.shape[0]):\n",
    "#     if i == 0:\n",
    "#         model = KAN(width=[2,1,1], grid=grids[i], k=k, seed=1, device=device)\n",
    "#     if i != 0:\n",
    "#         model = model.refine(grids[i])\n",
    "#     results = model.fit(dataset, opt=\"LBFGS\", steps=steps)\n",
    "#     train_losses += results['train_loss']\n",
    "#     test_losses += results['test_loss']"
   ]
  },
  {
   "cell_type": "markdown",
   "metadata": {},
   "source": []
  }
 ],
 "metadata": {
  "kernelspec": {
   "display_name": "KAN",
   "language": "python",
   "name": "python3"
  },
  "language_info": {
   "codemirror_mode": {
    "name": "ipython",
    "version": 3
   },
   "file_extension": ".py",
   "mimetype": "text/x-python",
   "name": "python",
   "nbconvert_exporter": "python",
   "pygments_lexer": "ipython3",
   "version": "3.12.4"
  }
 },
 "nbformat": 4,
 "nbformat_minor": 2
}
